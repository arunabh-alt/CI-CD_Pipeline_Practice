{
  "nbformat": 4,
  "nbformat_minor": 0,
  "metadata": {
    "colab": {
      "provenance": [],
      "authorship_tag": "ABX9TyOARlLJS3QhQrHa5K1uSoNm",
      "include_colab_link": true
    },
    "kernelspec": {
      "name": "python3",
      "display_name": "Python 3"
    },
    "language_info": {
      "name": "python"
    }
  },
  "cells": [
    {
      "cell_type": "markdown",
      "metadata": {
        "id": "view-in-github",
        "colab_type": "text"
      },
      "source": [
        "<a href=\"https://colab.research.google.com/github/arunabh-alt/CI-CD_Pipeline_Practice/blob/main/ELT_Pipeline.ipynb\" target=\"_parent\"><img src=\"https://colab.research.google.com/assets/colab-badge.svg\" alt=\"Open In Colab\"/></a>"
      ]
    },
    {
      "cell_type": "code",
      "source": [
        "!pip install --upgrade opentelemetry-sdk opentelemetry-api\n"
      ],
      "metadata": {
        "colab": {
          "base_uri": "https://localhost:8080/"
        },
        "id": "EjROSFki5WyQ",
        "outputId": "4c80e74b-74e0-4076-f7f4-1131d08a5ef3"
      },
      "execution_count": 4,
      "outputs": [
        {
          "output_type": "stream",
          "name": "stdout",
          "text": [
            "Requirement already satisfied: opentelemetry-sdk in /usr/local/lib/python3.11/dist-packages (1.16.0)\n",
            "Collecting opentelemetry-sdk\n",
            "  Downloading opentelemetry_sdk-1.32.1-py3-none-any.whl.metadata (1.6 kB)\n",
            "Requirement already satisfied: opentelemetry-api in /usr/local/lib/python3.11/dist-packages (1.32.1)\n",
            "Collecting opentelemetry-semantic-conventions==0.53b1 (from opentelemetry-sdk)\n",
            "  Downloading opentelemetry_semantic_conventions-0.53b1-py3-none-any.whl.metadata (2.5 kB)\n",
            "Requirement already satisfied: typing-extensions>=3.7.4 in /usr/local/lib/python3.11/dist-packages (from opentelemetry-sdk) (4.13.2)\n",
            "Requirement already satisfied: deprecated>=1.2.6 in /usr/local/lib/python3.11/dist-packages (from opentelemetry-api) (1.2.18)\n",
            "Requirement already satisfied: importlib-metadata<8.7.0,>=6.0 in /usr/local/lib/python3.11/dist-packages (from opentelemetry-api) (8.6.1)\n",
            "Requirement already satisfied: wrapt<2,>=1.10 in /usr/local/lib/python3.11/dist-packages (from deprecated>=1.2.6->opentelemetry-api) (1.17.2)\n",
            "Requirement already satisfied: zipp>=3.20 in /usr/local/lib/python3.11/dist-packages (from importlib-metadata<8.7.0,>=6.0->opentelemetry-api) (3.21.0)\n",
            "Downloading opentelemetry_sdk-1.32.1-py3-none-any.whl (118 kB)\n",
            "\u001b[2K   \u001b[90m━━━━━━━━━━━━━━━━━━━━━━━━━━━━━━━━━━━━━━━━\u001b[0m \u001b[32m119.0/119.0 kB\u001b[0m \u001b[31m3.1 MB/s\u001b[0m eta \u001b[36m0:00:00\u001b[0m\n",
            "\u001b[?25hDownloading opentelemetry_semantic_conventions-0.53b1-py3-none-any.whl (188 kB)\n",
            "\u001b[2K   \u001b[90m━━━━━━━━━━━━━━━━━━━━━━━━━━━━━━━━━━━━━━━━\u001b[0m \u001b[32m188.4/188.4 kB\u001b[0m \u001b[31m8.7 MB/s\u001b[0m eta \u001b[36m0:00:00\u001b[0m\n",
            "\u001b[?25hInstalling collected packages: opentelemetry-semantic-conventions, opentelemetry-sdk\n",
            "  Attempting uninstall: opentelemetry-semantic-conventions\n",
            "    Found existing installation: opentelemetry-semantic-conventions 0.37b0\n",
            "    Uninstalling opentelemetry-semantic-conventions-0.37b0:\n",
            "      Successfully uninstalled opentelemetry-semantic-conventions-0.37b0\n",
            "  Attempting uninstall: opentelemetry-sdk\n",
            "    Found existing installation: opentelemetry-sdk 1.16.0\n",
            "    Uninstalling opentelemetry-sdk-1.16.0:\n",
            "      Successfully uninstalled opentelemetry-sdk-1.16.0\n",
            "Successfully installed opentelemetry-sdk-1.32.1 opentelemetry-semantic-conventions-0.53b1\n"
          ]
        }
      ]
    },
    {
      "cell_type": "code",
      "execution_count": 5,
      "metadata": {
        "id": "1qk7n9tbxhB3"
      },
      "outputs": [],
      "source": [
        "# Install necessary packages\n",
        "!pip install --quiet prefect sqlalchemy pandas matplotlib requests\n"
      ]
    },
    {
      "cell_type": "code",
      "source": [
        "!pip install \"prefect<2\""
      ],
      "metadata": {
        "colab": {
          "base_uri": "https://localhost:8080/",
          "height": 1000
        },
        "id": "A6568W_v6MAZ",
        "outputId": "6e1ed063-acd9-4bd3-8d72-6a116fa93692"
      },
      "execution_count": 7,
      "outputs": [
        {
          "output_type": "stream",
          "name": "stdout",
          "text": [
            "Collecting prefect<2\n",
            "  Downloading prefect-1.4.1-py3-none-any.whl.metadata (27 kB)\n",
            "Requirement already satisfied: click>=7.0 in /usr/local/lib/python3.11/dist-packages (from prefect<2) (8.1.8)\n",
            "Requirement already satisfied: cloudpickle>=1.3.0 in /usr/local/lib/python3.11/dist-packages (from prefect<2) (3.1.1)\n",
            "Collecting croniter>=0.3.24 (from prefect<2)\n",
            "  Downloading croniter-6.0.0-py2.py3-none-any.whl.metadata (32 kB)\n",
            "Requirement already satisfied: dask>=2021.06.0 in /usr/local/lib/python3.11/dist-packages (from prefect<2) (2024.12.1)\n",
            "Requirement already satisfied: distributed>=2.17.0 in /usr/local/lib/python3.11/dist-packages (from prefect<2) (2024.12.1)\n",
            "Requirement already satisfied: docker>=3.4.1 in /usr/local/lib/python3.11/dist-packages (from prefect<2) (7.1.0)\n",
            "Requirement already satisfied: importlib-resources>=3.0.0 in /usr/local/lib/python3.11/dist-packages (from prefect<2) (6.5.2)\n",
            "Collecting marshmallow>=3.0.0b19 (from prefect<2)\n",
            "  Downloading marshmallow-4.0.0-py3-none-any.whl.metadata (7.4 kB)\n",
            "Collecting marshmallow-oneofschema>=2.0.0b2 (from prefect<2)\n",
            "  Downloading marshmallow_oneofschema-3.1.1-py3-none-any.whl.metadata (5.0 kB)\n",
            "Requirement already satisfied: msgpack>=0.6.0 in /usr/local/lib/python3.11/dist-packages (from prefect<2) (1.1.0)\n",
            "Collecting mypy-extensions>=0.4.0 (from prefect<2)\n",
            "  Downloading mypy_extensions-1.1.0-py3-none-any.whl.metadata (1.1 kB)\n",
            "Requirement already satisfied: packaging>=20.0 in /usr/local/lib/python3.11/dist-packages (from prefect<2) (24.2)\n",
            "Requirement already satisfied: pendulum>=2.0.4 in /usr/local/lib/python3.11/dist-packages (from prefect<2) (3.1.0)\n",
            "Requirement already satisfied: python-dateutil>=2.7.0 in /usr/local/lib/python3.11/dist-packages (from prefect<2) (2.9.0.post0)\n",
            "Requirement already satisfied: pyyaml>=3.13 in /usr/local/lib/python3.11/dist-packages (from prefect<2) (6.0.2)\n",
            "Requirement already satisfied: python-box>=5.1.0 in /usr/local/lib/python3.11/dist-packages (from prefect<2) (7.3.2)\n",
            "Requirement already satisfied: python-slugify>=1.2.6 in /usr/local/lib/python3.11/dist-packages (from prefect<2) (8.0.4)\n",
            "Requirement already satisfied: pytz>=2018.7 in /usr/local/lib/python3.11/dist-packages (from prefect<2) (2025.2)\n",
            "Requirement already satisfied: requests>=2.25 in /usr/local/lib/python3.11/dist-packages (from prefect<2) (2.32.3)\n",
            "Requirement already satisfied: tabulate>=0.8.0 in /usr/local/lib/python3.11/dist-packages (from prefect<2) (0.9.0)\n",
            "Requirement already satisfied: toml>=0.9.4 in /usr/local/lib/python3.11/dist-packages (from prefect<2) (0.10.2)\n",
            "Requirement already satisfied: urllib3>=1.26.0 in /usr/local/lib/python3.11/dist-packages (from prefect<2) (2.4.0)\n",
            "Requirement already satisfied: fsspec>=2021.09.0 in /usr/local/lib/python3.11/dist-packages (from dask>=2021.06.0->prefect<2) (2025.3.2)\n",
            "Requirement already satisfied: partd>=1.4.0 in /usr/local/lib/python3.11/dist-packages (from dask>=2021.06.0->prefect<2) (1.4.2)\n",
            "Requirement already satisfied: toolz>=0.10.0 in /usr/local/lib/python3.11/dist-packages (from dask>=2021.06.0->prefect<2) (0.12.1)\n",
            "Requirement already satisfied: importlib_metadata>=4.13.0 in /usr/local/lib/python3.11/dist-packages (from dask>=2021.06.0->prefect<2) (8.6.1)\n",
            "Requirement already satisfied: jinja2>=2.10.3 in /usr/local/lib/python3.11/dist-packages (from distributed>=2.17.0->prefect<2) (3.1.6)\n",
            "Requirement already satisfied: locket>=1.0.0 in /usr/local/lib/python3.11/dist-packages (from distributed>=2.17.0->prefect<2) (1.0.0)\n",
            "Requirement already satisfied: psutil>=5.8.0 in /usr/local/lib/python3.11/dist-packages (from distributed>=2.17.0->prefect<2) (5.9.5)\n",
            "Requirement already satisfied: sortedcontainers>=2.0.5 in /usr/local/lib/python3.11/dist-packages (from distributed>=2.17.0->prefect<2) (2.4.0)\n",
            "Requirement already satisfied: tblib>=1.6.0 in /usr/local/lib/python3.11/dist-packages (from distributed>=2.17.0->prefect<2) (3.1.0)\n",
            "Requirement already satisfied: tornado>=6.2.0 in /usr/local/lib/python3.11/dist-packages (from distributed>=2.17.0->prefect<2) (6.4.2)\n",
            "Requirement already satisfied: zict>=3.0.0 in /usr/local/lib/python3.11/dist-packages (from distributed>=2.17.0->prefect<2) (3.0.0)\n",
            "Collecting marshmallow>=3.0.0b19 (from prefect<2)\n",
            "  Downloading marshmallow-3.26.1-py3-none-any.whl.metadata (7.3 kB)\n",
            "Requirement already satisfied: tzdata>=2020.1 in /usr/local/lib/python3.11/dist-packages (from pendulum>=2.0.4->prefect<2) (2025.2)\n",
            "Requirement already satisfied: six>=1.5 in /usr/local/lib/python3.11/dist-packages (from python-dateutil>=2.7.0->prefect<2) (1.17.0)\n",
            "Requirement already satisfied: text-unidecode>=1.3 in /usr/local/lib/python3.11/dist-packages (from python-slugify>=1.2.6->prefect<2) (1.3)\n",
            "Requirement already satisfied: charset-normalizer<4,>=2 in /usr/local/lib/python3.11/dist-packages (from requests>=2.25->prefect<2) (3.4.1)\n",
            "Requirement already satisfied: idna<4,>=2.5 in /usr/local/lib/python3.11/dist-packages (from requests>=2.25->prefect<2) (3.10)\n",
            "Requirement already satisfied: certifi>=2017.4.17 in /usr/local/lib/python3.11/dist-packages (from requests>=2.25->prefect<2) (2025.4.26)\n",
            "Requirement already satisfied: zipp>=3.20 in /usr/local/lib/python3.11/dist-packages (from importlib_metadata>=4.13.0->dask>=2021.06.0->prefect<2) (3.21.0)\n",
            "Requirement already satisfied: MarkupSafe>=2.0 in /usr/local/lib/python3.11/dist-packages (from jinja2>=2.10.3->distributed>=2.17.0->prefect<2) (3.0.2)\n",
            "Downloading prefect-1.4.1-py3-none-any.whl (606 kB)\n",
            "\u001b[2K   \u001b[90m━━━━━━━━━━━━━━━━━━━━━━━━━━━━━━━━━━━━━━━━\u001b[0m \u001b[32m606.6/606.6 kB\u001b[0m \u001b[31m13.7 MB/s\u001b[0m eta \u001b[36m0:00:00\u001b[0m\n",
            "\u001b[?25hDownloading croniter-6.0.0-py2.py3-none-any.whl (25 kB)\n",
            "Downloading marshmallow_oneofschema-3.1.1-py3-none-any.whl (5.7 kB)\n",
            "Downloading marshmallow-3.26.1-py3-none-any.whl (50 kB)\n",
            "\u001b[2K   \u001b[90m━━━━━━━━━━━━━━━━━━━━━━━━━━━━━━━━━━━━━━━━\u001b[0m \u001b[32m50.9/50.9 kB\u001b[0m \u001b[31m3.8 MB/s\u001b[0m eta \u001b[36m0:00:00\u001b[0m\n",
            "\u001b[?25hDownloading mypy_extensions-1.1.0-py3-none-any.whl (5.0 kB)\n",
            "Installing collected packages: mypy-extensions, marshmallow, marshmallow-oneofschema, croniter, prefect\n",
            "  Attempting uninstall: prefect\n",
            "    Found existing installation: prefect 3.4.0\n",
            "    Uninstalling prefect-3.4.0:\n",
            "      Successfully uninstalled prefect-3.4.0\n",
            "Successfully installed croniter-6.0.0 marshmallow-3.26.1 marshmallow-oneofschema-3.1.1 mypy-extensions-1.1.0 prefect-1.4.1\n"
          ]
        },
        {
          "output_type": "display_data",
          "data": {
            "application/vnd.colab-display-data+json": {
              "pip_warning": {
                "packages": [
                  "prefect"
                ]
              },
              "id": "a26a52cae4d54639b3d93e1cee4c68f4"
            }
          },
          "metadata": {}
        }
      ]
    },
    {
      "cell_type": "code",
      "source": [
        "import sqlite3\n",
        "import pandas as pd\n",
        "import requests\n",
        "import matplotlib.pyplot as plt\n",
        "from sqlalchemy import create_engine\n",
        "from prefect import task, Flow\n",
        "from prefect.schedules import IntervalSchedule\n",
        "from datetime import timedelta"
      ],
      "metadata": {
        "id": "SJEVu42zyJi2"
      },
      "execution_count": 1,
      "outputs": []
    },
    {
      "cell_type": "markdown",
      "source": [
        "Extract"
      ],
      "metadata": {
        "id": "x4ufaB3E7YrC"
      }
    },
    {
      "cell_type": "code",
      "source": [
        "@task\n",
        "def fetch_data(country_slug : str) -> pd.DataFrame:\n",
        "  url = f\"https://api.covid19api.com/dayone/country/{country_slug}\"\n",
        "  resp = requests.get(url)\n",
        "  resp.raise_for_status()\n",
        "  data = resp.join()\n",
        "  df = pd.json_normalize(data)\n",
        "\n",
        "  return df[ [\"Country\", \"CountryCode\", \"Province\", \"City\", \"CityCode\",\n",
        "        \"Lat\", \"Lon\", \"Confirmed\", \"Deaths\", \"Recovered\", \"Active\", \"Date\"]]"
      ],
      "metadata": {
        "id": "Tm-PgSZmyWdV"
      },
      "execution_count": 2,
      "outputs": []
    },
    {
      "cell_type": "markdown",
      "source": [
        "Load"
      ],
      "metadata": {
        "id": "0VqWCbKM7bIS"
      }
    },
    {
      "cell_type": "code",
      "source": [
        "DB_URI = \"sqlite:///covid_data.db\"\n",
        "engine = create_engine(DB_URI, echo= False)\n",
        "\n",
        "@task\n",
        "def load_raw(df: pd.DataFrame):\n",
        "\n",
        "    df.to_sql(\"raw_cases\", engine, if_exists=\"append\", index=False)"
      ],
      "metadata": {
        "id": "Voz6009W7AQE"
      },
      "execution_count": 9,
      "outputs": []
    },
    {
      "cell_type": "markdown",
      "source": [
        "Transform"
      ],
      "metadata": {
        "id": "0Lj03zrD7dOQ"
      }
    },
    {
      "cell_type": "markdown",
      "source": [
        "1. Build daily totals with SQL"
      ],
      "metadata": {
        "id": "whw9EYPR7lYs"
      }
    },
    {
      "cell_type": "code",
      "source": [
        "@task\n",
        "def transform_daily():\n",
        "  sql = \"\"\"\n",
        "  CREATE TABLE IF NOT EXISTS daily_total AS\n",
        "  SELECT\n",
        "    DATE(Date) AS day,\n",
        "    SUM(Confirmed) AS total_confirmed,\n",
        "    SUM(Deaths) AS total_deaths,\n",
        "    SUM(Recovered) AS total_recovered,\n",
        "  FROM raw_cases\n",
        "  GROUP BY day\n",
        "  ORDER BY day;\n",
        "  \"\"\"\n",
        "  with engine.begin() as conn:\n",
        "    conn.execute(sql)\n",
        ""
      ],
      "metadata": {
        "id": "IV1LkYxf7ULE"
      },
      "execution_count": 4,
      "outputs": []
    },
    {
      "cell_type": "markdown",
      "source": [
        "2. Compute 7-day moving average with pandas"
      ],
      "metadata": {
        "id": "uc2GnKd88W-X"
      }
    },
    {
      "cell_type": "code",
      "source": [
        "@task\n",
        "def transform_moving_avg() -> pd.DataFrame:\n",
        "  df = pd.read_sql(\"SELECT * FROM daily_totals\", engine, parse_dates = [\"day\"])\n",
        "  df = df.sort_values(\"day\")\n",
        "  df[\"new_confirmed\"] = df[\"total_confirmed\"].diff().fillna(0)\n",
        "  df[\"ma_7\"] = df[\"new_confirmed\"].rolling(window = 7).mean()\n",
        "\n",
        "  df.to_sql(\"moving_avg\", engine, if_exists=\"replace\", index=False)\n",
        "  return df"
      ],
      "metadata": {
        "id": "CAUclZFw8VDB"
      },
      "execution_count": 5,
      "outputs": []
    },
    {
      "cell_type": "markdown",
      "source": [
        "Visualize"
      ],
      "metadata": {
        "id": "BALUs2BN9U0E"
      }
    },
    {
      "cell_type": "code",
      "source": [
        "@task\n",
        "def plot_trends(df: pd.DataFrame):\n",
        "    plt.figure(figsize=(10,4))\n",
        "    plt.plot(df[\"day\"], df[\"new_confirmed\"], label=\"Daily New Cases\")\n",
        "    plt.plot(df[\"day\"], df[\"ma_7\"], label=\"7‑Day MA\")\n",
        "    plt.title(\"COVID‑19 Daily New Cases & 7‑Day MA\")\n",
        "    plt.xlabel(\"Date\")\n",
        "    plt.ylabel(\"Cases\")\n",
        "    plt.legend()\n",
        "    plt.xticks(rotation=45)\n",
        "    plt.tight_layout()\n",
        "    plt.show()"
      ],
      "metadata": {
        "id": "Bn786v4-9OaB"
      },
      "execution_count": 6,
      "outputs": []
    },
    {
      "cell_type": "code",
      "source": [
        "schedule = IntervalSchedule(interval= timedelta(days=1))\n",
        "\n",
        "with Flow(\"covid-elt-pipeline\", schedule = schedule) as flow:\n",
        "  raw_df = fetch_data(country_slug=\"china\")\n",
        "  _  = load_raw(raw_df)\n",
        "  _  = transform_daily()\n",
        "  mov_avg_df = transform_moving_avg()\n",
        "  _ = plot_trends(mov_avg_df)\n",
        "\n",
        "flow.run()"
      ],
      "metadata": {
        "colab": {
          "base_uri": "https://localhost:8080/"
        },
        "id": "j5LO-EfK9Wlk",
        "outputId": "2dc34038-6251-4764-d713-bde693212d60"
      },
      "execution_count": null,
      "outputs": [
        {
          "output_type": "stream",
          "name": "stdout",
          "text": [
            "[2025-05-07 13:48:20+0000] INFO - prefect.covid-elt-pipeline | Waiting for next scheduled run at 2025-05-08 00:00:00+00:00\n"
          ]
        },
        {
          "output_type": "stream",
          "name": "stderr",
          "text": [
            "INFO:prefect.covid-elt-pipeline:Waiting for next scheduled run at 2025-05-08 00:00:00+00:00\n"
          ]
        }
      ]
    },
    {
      "cell_type": "code",
      "source": [],
      "metadata": {
        "id": "SZvUJkLb-MpL"
      },
      "execution_count": null,
      "outputs": []
    }
  ]
}